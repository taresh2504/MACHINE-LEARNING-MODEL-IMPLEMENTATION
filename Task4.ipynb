# Task 4
# Machine Learning Model Implementation
# Project: Spam Email Detection using Scikit-learn
# Note :- Run each cell one by one then only it will give u results.

# 1️ Import necessary libraries
import pandas as pd
import numpy as np
from sklearn.model_selection import train_test_split
from sklearn.feature_extraction.text import TfidfVectorizer
from sklearn.naive_bayes import MultinomialNB
from sklearn.metrics import accuracy_score, confusion_matrix, classification_report

# 2️ Load Dataset
# Using a sample spam dataset from GitHub
url = "https://raw.githubusercontent.com/justmarkham/pycon-2016-tutorial/master/data/sms.tsv"
data = pd.read_csv(url, sep='\t', names=['label', 'message'])

# Display first 5 rows
print("📂 Dataset Preview:")
print(data.head())

# 3️ Convert labels to binary values (ham = 0, spam = 1)
data['label'] = data['label'].map({'ham': 0, 'spam': 1})

# 4️ Split data into train and test sets
X_train, X_test, y_train, y_test = train_test_split(
    data['message'], data['label'], test_size=0.2, random_state=42
)

# 5️ Convert text data into numerical features using TF-IDF
vectorizer = TfidfVectorizer(stop_words='english')
X_train_tfidf = vectorizer.fit_transform(X_train)
X_test_tfidf = vectorizer.transform(X_test)

# 6️ Train Naive Bayes Classifier
model = MultinomialNB()
model.fit(X_train_tfidf, y_train)

# 7️ Predictions
y_pred = model.predict(X_test_tfidf)

# 8️ Evaluation
print("\n✅ Model Evaluation:")
print(f"Accuracy: {accuracy_score(y_test, y_pred):.4f}")
print("\nClassification Report:")
print(classification_report(y_test, y_pred))
print("\nConfusion Matrix:")
print(confusion_matrix(y_test, y_pred))

# 9️ Example Prediction
sample_text = ["Congratulations! You've won a $1000 Walmart gift card. Click here to claim.",
               "Hi, are we still meeting tomorrow at 10am?"]

sample_tfidf = vectorizer.transform(sample_text)
predictions = model.predict(sample_tfidf)

print("\n📌 Sample Predictions:")
for text, pred in zip(sample_text, predictions):
    print(f"Message: {text} --> {'SPAM' if pred == 1 else 'HAM'}")
